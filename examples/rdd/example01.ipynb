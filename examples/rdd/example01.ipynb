{
 "cells": [
  {
   "cell_type": "code",
   "execution_count": null,
   "id": "874b02b4-1e3c-4d14-b66a-3ecade9a24ca",
   "metadata": {},
   "outputs": [],
   "source": [
    "import os\n",
    "from pyspark import SparkContext, SparkConf\n",
    "\n",
    "HDFS_NAMENODE = 'hdfs://192.168.0.25:9000'\n",
    "spark_conf = SparkConf()\n",
    "\n",
    "#if main application is not executing on the same network with spark-master\n",
    "#then some additional configuration for spark context is required\n",
    "spark_conf.setAll([\n",
    "    ('spark.master', 'spark://127.17.0.1:7077'), \n",
    "    ('spark.app.name', 'wordcount'),\n",
    "    ('spark.submit.deployMode', 'client'),\n",
    "    ('spark.ui.showConsoleProgress', 'true'),\n",
    "    ('spark.eventLog.enabled', 'false'),\n",
    "    ('spark.logConf', 'false'),\n",
    "    ('spark.driver.bindAddress', '0.0.0.0'),\n",
    "    ('spark.driver.host', '192.168.0.25'),\n",
    "])\n",
    "#in case that main application is executing on the same network with spark-master\n",
    "#only this line is needed\n",
    "#conf = SparkConf().setAppName(\"wordcount\").setMaster(\"spark://spark-master:7077\")\n",
    "\n",
    "\n",
    "sc = SparkContext(conf=spark_conf)"
   ]
  },
  {
   "cell_type": "code",
   "execution_count": null,
   "id": "6bd8b5ab-4460-4a97-96e6-31ba7eb04167",
   "metadata": {},
   "outputs": [],
   "source": [
    "text_file = sc.textFile(HDFS_NAMENODE + \"/dante/divine_comedy.txt\")\n",
    "counts = text_file.flatMap(lambda line: line.split(\" \")).map(lambda word: (word, 1)).reduceByKey(lambda a, b: a + b)\n",
    "counts.saveAsTextFile(HDFS_NAMENODE + \"/dante/count\")"
   ]
  }
 ],
 "metadata": {
  "kernelspec": {
   "display_name": "Python 3 (ipykernel)",
   "language": "python",
   "name": "python3"
  },
  "language_info": {
   "codemirror_mode": {
    "name": "ipython",
    "version": 3
   },
   "file_extension": ".py",
   "mimetype": "text/x-python",
   "name": "python",
   "nbconvert_exporter": "python",
   "pygments_lexer": "ipython3",
   "version": "3.10.6"
  }
 },
 "nbformat": 4,
 "nbformat_minor": 5
}
