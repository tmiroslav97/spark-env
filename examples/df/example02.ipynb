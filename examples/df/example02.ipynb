{
 "cells": [
  {
   "cell_type": "code",
   "execution_count": null,
   "id": "8e877fdf-02c4-4cd8-84c0-3257dc33b1d5",
   "metadata": {},
   "outputs": [],
   "source": [
    "import os\n",
    "from pyspark import SparkContext, SparkConf\n",
    "from pyspark.sql import SparkSession, Row\n",
    "from pyspark.sql.functions import col\n",
    "\n",
    "def quiet_logs(sc):\n",
    "  logger = sc._jvm.org.apache.log4j\n",
    "  logger.LogManager.getLogger(\"org\"). setLevel(logger.Level.ERROR)\n",
    "  logger.LogManager.getLogger(\"akka\").setLevel(logger.Level.ERROR)\n",
    "\n",
    "HDFS_NAMENODE = 'hdfs://192.168.0.25:9000'\n",
    "spark_conf = SparkConf()\n",
    "\n",
    "#if main application is not executing on the same network with spark-master\n",
    "#then some additional configuration for spark context is required\n",
    "spark_conf.setAll([\n",
    "    ('spark.master', 'spark://127.17.0.1:7077'), \n",
    "    ('spark.app.name', 'wordcount'),\n",
    "    ('spark.submit.deployMode', 'client'),\n",
    "    ('spark.ui.showConsoleProgress', 'true'),\n",
    "    ('spark.eventLog.enabled', 'false'),\n",
    "    ('spark.logConf', 'false'),\n",
    "    ('spark.driver.bindAddress', '0.0.0.0'),\n",
    "    ('spark.driver.host', '192.168.0.25'),\n",
    "])\n",
    "#in case that main application is executing on the same network with spark-master\n",
    "#only this line is needed\n",
    "#conf = SparkConf().setAppName(\"wordcount\").setMaster(\"spark://spark-master:7077\")\n",
    "\n",
    "\n",
    "sc = SparkContext(conf=spark_conf)\n",
    "spark = SparkSession(sc)\n",
    "quiet_logs(spark)"
   ]
  },
  {
   "cell_type": "code",
   "execution_count": null,
   "id": "5b685172-319d-4ad0-ad30-94acd17726c0",
   "metadata": {},
   "outputs": [],
   "source": [
    "textFile = spark.sparkContext.textFile(HDFS_NAMENODE+\"/dante/divine_comedy.txt\")\n",
    "\n",
    "# Creates a DataFrame having a single column named \"line\"\n",
    "df = textFile.map(lambda r: Row(r)).toDF([\"line\"])\n",
    "virgil = df.filter(col(\"line\").like(\"%Virgil%\"))\n",
    "print(virgil.count())\n",
    "print(virgil.filter(col(\"line\").like(\"%me%\")).count())\n",
    "print(virgil.filter(col(\"line\").like(\"%me%\")).show())\n",
    "print(virgil.filter(col(\"line\").like(\"%me%\")).collect())"
   ]
  }
 ],
 "metadata": {
  "kernelspec": {
   "display_name": "Python 3 (ipykernel)",
   "language": "python",
   "name": "python3"
  },
  "language_info": {
   "codemirror_mode": {
    "name": "ipython",
    "version": 3
   },
   "file_extension": ".py",
   "mimetype": "text/x-python",
   "name": "python",
   "nbconvert_exporter": "python",
   "pygments_lexer": "ipython3",
   "version": "3.10.6"
  }
 },
 "nbformat": 4,
 "nbformat_minor": 5
}
