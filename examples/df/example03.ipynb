{
 "cells": [
  {
   "cell_type": "code",
   "execution_count": null,
   "id": "eef6e7c2-e04b-49c3-966c-f7df9ac9c4e7",
   "metadata": {},
   "outputs": [],
   "source": [
    "import os\n",
    "from pyspark import SparkContext, SparkConf\n",
    "from pyspark.sql import SparkSession, Row\n",
    "from pyspark.sql.functions import col\n",
    "\n",
    "def quiet_logs(sc):\n",
    "  logger = sc._jvm.org.apache.log4j\n",
    "  logger.LogManager.getLogger(\"org\"). setLevel(logger.Level.ERROR)\n",
    "  logger.LogManager.getLogger(\"akka\").setLevel(logger.Level.ERROR)\n",
    "\n",
    "HDFS_NAMENODE = 'hdfs://192.168.0.25:9000'\n",
    "spark_conf = SparkConf()\n",
    "\n",
    "#if main application is not executing on the same network with spark-master\n",
    "#then some additional configuration for spark context is required\n",
    "spark_conf.setAll([\n",
    "    ('spark.master', 'spark://127.17.0.1:7077'), \n",
    "    ('spark.app.name', 'example join'),\n",
    "    ('spark.submit.deployMode', 'client'),\n",
    "    ('spark.ui.showConsoleProgress', 'true'),\n",
    "    ('spark.eventLog.enabled', 'false'),\n",
    "    ('spark.logConf', 'false'),\n",
    "    ('spark.driver.bindAddress', '0.0.0.0'),\n",
    "    ('spark.driver.host', '192.168.0.25'),\n",
    "])\n",
    "#in case that main application is executing on the same network with spark-master\n",
    "#only this line is needed\n",
    "#conf = SparkConf().setAppName(\"example join\").setMaster(\"spark://spark-master:7077\")\n",
    "\n",
    "\n",
    "sc = SparkContext(conf=spark_conf)\n",
    "spark = SparkSession(sc)\n",
    "quiet_logs(spark)"
   ]
  },
  {
   "cell_type": "code",
   "execution_count": null,
   "id": "d42ecdb5-8828-40e2-b44b-28484aba0e5b",
   "metadata": {},
   "outputs": [],
   "source": [
    "employees = sc.parallelize([(\"Rafferty\", 31), (\"Jones\", 33), (\"Heisenberg\", 33), \\\n",
    "    (\"Robinson\", 34), (\"Smith\", 34), (\"Williams\", None)]).toDF([\"LastName\", \"DepartmentID\"])\n",
    "\n",
    "employees.show()"
   ]
  },
  {
   "cell_type": "code",
   "execution_count": null,
   "id": "ecb2c310-39f6-449e-940e-5c02e2c45c47",
   "metadata": {},
   "outputs": [],
   "source": [
    "departments = sc.parallelize([(31, \"Sales\"), (33, \"Engineering\"), \\\n",
    "    (34, \"Clerical\"), (35, \"Marketing\")]).toDF([\"DepartmentID\", \"DepartmentName\"])\n",
    "\n",
    "departments.show()"
   ]
  },
  {
   "cell_type": "code",
   "execution_count": null,
   "id": "7ca387ff-7ff0-4e19-bd3d-be08748be651",
   "metadata": {},
   "outputs": [],
   "source": [
    "# inner join\n",
    "employees.join(departments, \"DepartmentID\").show()\n",
    "\n",
    "# left outer join\n",
    "employees.join(departments, [\"DepartmentID\"], \"left_outer\").show()\n",
    "\n",
    "# right outer join\n",
    "employees.join(departments, [\"DepartmentID\"], \"right_outer\").show()\n",
    "\n",
    "# cartesian join\n",
    "employees.crossJoin(departments).show(10)"
   ]
  },
  {
   "cell_type": "code",
   "execution_count": null,
   "id": "45c5a745-7430-4d1b-b5b2-25474e5f0048",
   "metadata": {},
   "outputs": [],
   "source": [
    "products = sc.parallelize([ \\\n",
    "  (\"steak\", \"1990-01-01\", \"2000-01-01\", 150), \\\n",
    "  (\"steak\", \"2000-01-02\", \"2020-01-01\", 180), \\\n",
    "  (\"fish\", \"1990-01-01\", \"2020-01-01\", 100) \\\n",
    "]).toDF([\"name\", \"startDate\", \"endDate\", \"price\"])\n",
    "\n",
    "products.show()"
   ]
  },
  {
   "cell_type": "code",
   "execution_count": null,
   "id": "f5756174-04ac-46d9-ac5c-235ca4489b2c",
   "metadata": {},
   "outputs": [],
   "source": [
    "orders = sc.parallelize([ \\\n",
    "  (\"1995-01-01\", \"steak\"), \\\n",
    "  (\"2000-01-01\", \"fish\"), \\\n",
    "  (\"2005-01-01\", \"steak\") \\\n",
    "]).toDF([\"date\", \"product\"])\n",
    "\n",
    "orders.show()"
   ]
  },
  {
   "cell_type": "code",
   "execution_count": null,
   "id": "f9a2b8a1-f036-47a2-a423-f23dc2447e8c",
   "metadata": {},
   "outputs": [],
   "source": [
    "orders.join(products, (orders[\"product\"] == products[\"name\"]) \\\n",
    "    & (orders[\"date\"] >= products[\"startDate\"]) \\\n",
    "    & (orders[\"date\"] <= products[\"endDate\"])).show()"
   ]
  }
 ],
 "metadata": {
  "kernelspec": {
   "display_name": "Python 3 (ipykernel)",
   "language": "python",
   "name": "python3"
  },
  "language_info": {
   "codemirror_mode": {
    "name": "ipython",
    "version": 3
   },
   "file_extension": ".py",
   "mimetype": "text/x-python",
   "name": "python",
   "nbconvert_exporter": "python",
   "pygments_lexer": "ipython3",
   "version": "3.10.6"
  }
 },
 "nbformat": 4,
 "nbformat_minor": 5
}
